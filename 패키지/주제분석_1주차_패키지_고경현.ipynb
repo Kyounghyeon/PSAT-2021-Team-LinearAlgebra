{
 "cells": [
  {
   "cell_type": "code",
   "execution_count": 23,
   "metadata": {},
   "outputs": [],
   "source": [
    "import pandas as pd\n",
    "import numpy as np"
   ]
  },
  {
   "cell_type": "markdown",
   "metadata": {},
   "source": [
    "### 1.1 데이터 불러오기"
   ]
  },
  {
   "cell_type": "code",
   "execution_count": 24,
   "metadata": {},
   "outputs": [],
   "source": [
    "data = pd.read_csv(\"data.csv\")"
   ]
  },
  {
   "cell_type": "markdown",
   "metadata": {},
   "source": [
    "### 1.2 데이터 확인"
   ]
  },
  {
   "cell_type": "code",
   "execution_count": 25,
   "metadata": {},
   "outputs": [
    {
     "name": "stdout",
     "output_type": "stream",
     "text": [
      "<class 'pandas.core.frame.DataFrame'>\n",
      "RangeIndex: 1216553 entries, 0 to 1216552\n",
      "Data columns (total 13 columns):\n",
      " #   Column                  Non-Null Count    Dtype  \n",
      "---  ------                  --------------    -----  \n",
      " 0   transaction_id          1216553 non-null  int64  \n",
      " 1   apartment_id            1216553 non-null  int64  \n",
      " 2   city                    1216553 non-null  object \n",
      " 3   dong                    1216553 non-null  object \n",
      " 4   jibun                   1216553 non-null  object \n",
      " 5   apt                     1216553 non-null  object \n",
      " 6   addr_kr                 1216553 non-null  object \n",
      " 7   exclusive_use_area      1216553 non-null  float64\n",
      " 8   year_of_completion      1216553 non-null  int64  \n",
      " 9   transaction_year_month  1216553 non-null  int64  \n",
      " 10  transaction_date        1216553 non-null  object \n",
      " 11  floor                   1216553 non-null  int64  \n",
      " 12  transaction_real_price  1216553 non-null  int64  \n",
      "dtypes: float64(1), int64(6), object(6)\n",
      "memory usage: 120.7+ MB\n"
     ]
    }
   ],
   "source": [
    "data.info()"
   ]
  },
  {
   "cell_type": "code",
   "execution_count": 26,
   "metadata": {},
   "outputs": [
    {
     "data": {
      "text/html": [
       "<div>\n",
       "<style scoped>\n",
       "    .dataframe tbody tr th:only-of-type {\n",
       "        vertical-align: middle;\n",
       "    }\n",
       "\n",
       "    .dataframe tbody tr th {\n",
       "        vertical-align: top;\n",
       "    }\n",
       "\n",
       "    .dataframe thead th {\n",
       "        text-align: right;\n",
       "    }\n",
       "</style>\n",
       "<table border=\"1\" class=\"dataframe\">\n",
       "  <thead>\n",
       "    <tr style=\"text-align: right;\">\n",
       "      <th></th>\n",
       "      <th>transaction_id</th>\n",
       "      <th>apartment_id</th>\n",
       "      <th>city</th>\n",
       "      <th>dong</th>\n",
       "      <th>jibun</th>\n",
       "      <th>apt</th>\n",
       "      <th>addr_kr</th>\n",
       "      <th>exclusive_use_area</th>\n",
       "      <th>year_of_completion</th>\n",
       "      <th>transaction_year_month</th>\n",
       "      <th>transaction_date</th>\n",
       "      <th>floor</th>\n",
       "      <th>transaction_real_price</th>\n",
       "    </tr>\n",
       "  </thead>\n",
       "  <tbody>\n",
       "    <tr>\n",
       "      <th>0</th>\n",
       "      <td>0</td>\n",
       "      <td>7622</td>\n",
       "      <td>서울특별시</td>\n",
       "      <td>신교동</td>\n",
       "      <td>6-13</td>\n",
       "      <td>신현(101동)</td>\n",
       "      <td>신교동 6-13 신현(101동)</td>\n",
       "      <td>84.82</td>\n",
       "      <td>2002</td>\n",
       "      <td>200801</td>\n",
       "      <td>21~31</td>\n",
       "      <td>2</td>\n",
       "      <td>37500</td>\n",
       "    </tr>\n",
       "    <tr>\n",
       "      <th>1</th>\n",
       "      <td>1</td>\n",
       "      <td>5399</td>\n",
       "      <td>서울특별시</td>\n",
       "      <td>필운동</td>\n",
       "      <td>142</td>\n",
       "      <td>사직파크맨션</td>\n",
       "      <td>필운동 142 사직파크맨션</td>\n",
       "      <td>99.17</td>\n",
       "      <td>1973</td>\n",
       "      <td>200801</td>\n",
       "      <td>1~10</td>\n",
       "      <td>6</td>\n",
       "      <td>20000</td>\n",
       "    </tr>\n",
       "    <tr>\n",
       "      <th>2</th>\n",
       "      <td>2</td>\n",
       "      <td>3578</td>\n",
       "      <td>서울특별시</td>\n",
       "      <td>필운동</td>\n",
       "      <td>174-1</td>\n",
       "      <td>두레엘리시안</td>\n",
       "      <td>필운동 174-1 두레엘리시안</td>\n",
       "      <td>84.74</td>\n",
       "      <td>2007</td>\n",
       "      <td>200801</td>\n",
       "      <td>1~10</td>\n",
       "      <td>6</td>\n",
       "      <td>38500</td>\n",
       "    </tr>\n",
       "    <tr>\n",
       "      <th>3</th>\n",
       "      <td>3</td>\n",
       "      <td>10957</td>\n",
       "      <td>서울특별시</td>\n",
       "      <td>내수동</td>\n",
       "      <td>95</td>\n",
       "      <td>파크팰리스</td>\n",
       "      <td>내수동 95 파크팰리스</td>\n",
       "      <td>146.39</td>\n",
       "      <td>2003</td>\n",
       "      <td>200801</td>\n",
       "      <td>11~20</td>\n",
       "      <td>15</td>\n",
       "      <td>118000</td>\n",
       "    </tr>\n",
       "    <tr>\n",
       "      <th>4</th>\n",
       "      <td>4</td>\n",
       "      <td>10639</td>\n",
       "      <td>서울특별시</td>\n",
       "      <td>내수동</td>\n",
       "      <td>110-15</td>\n",
       "      <td>킹스매너</td>\n",
       "      <td>내수동 110-15 킹스매너</td>\n",
       "      <td>194.43</td>\n",
       "      <td>2004</td>\n",
       "      <td>200801</td>\n",
       "      <td>21~31</td>\n",
       "      <td>3</td>\n",
       "      <td>120000</td>\n",
       "    </tr>\n",
       "  </tbody>\n",
       "</table>\n",
       "</div>"
      ],
      "text/plain": [
       "   transaction_id  apartment_id   city dong   jibun       apt  \\\n",
       "0               0          7622  서울특별시  신교동    6-13  신현(101동)   \n",
       "1               1          5399  서울특별시  필운동     142    사직파크맨션   \n",
       "2               2          3578  서울특별시  필운동   174-1    두레엘리시안   \n",
       "3               3         10957  서울특별시  내수동      95     파크팰리스   \n",
       "4               4         10639  서울특별시  내수동  110-15      킹스매너   \n",
       "\n",
       "             addr_kr  exclusive_use_area  year_of_completion  \\\n",
       "0  신교동 6-13 신현(101동)               84.82                2002   \n",
       "1     필운동 142 사직파크맨션               99.17                1973   \n",
       "2   필운동 174-1 두레엘리시안               84.74                2007   \n",
       "3       내수동 95 파크팰리스              146.39                2003   \n",
       "4    내수동 110-15 킹스매너              194.43                2004   \n",
       "\n",
       "   transaction_year_month transaction_date  floor  transaction_real_price  \n",
       "0                  200801            21~31      2                   37500  \n",
       "1                  200801             1~10      6                   20000  \n",
       "2                  200801             1~10      6                   38500  \n",
       "3                  200801            11~20     15                  118000  \n",
       "4                  200801            21~31      3                  120000  "
      ]
     },
     "execution_count": 26,
     "metadata": {},
     "output_type": "execute_result"
    }
   ],
   "source": [
    "data.head()"
   ]
  },
  {
   "cell_type": "code",
   "execution_count": 27,
   "metadata": {},
   "outputs": [
    {
     "data": {
      "text/plain": [
       "(1216553, 13)"
      ]
     },
     "execution_count": 27,
     "metadata": {},
     "output_type": "execute_result"
    }
   ],
   "source": [
    "data.shape"
   ]
  },
  {
   "cell_type": "code",
   "execution_count": 28,
   "metadata": {
    "scrolled": true
   },
   "outputs": [
    {
     "data": {
      "text/plain": [
       "transaction_id            0\n",
       "apartment_id              0\n",
       "city                      0\n",
       "dong                      0\n",
       "jibun                     0\n",
       "apt                       0\n",
       "addr_kr                   0\n",
       "exclusive_use_area        0\n",
       "year_of_completion        0\n",
       "transaction_year_month    0\n",
       "transaction_date          0\n",
       "floor                     0\n",
       "transaction_real_price    0\n",
       "dtype: int64"
      ]
     },
     "execution_count": 28,
     "metadata": {},
     "output_type": "execute_result"
    }
   ],
   "source": [
    "data.isnull().sum()"
   ]
  },
  {
   "cell_type": "markdown",
   "metadata": {},
   "source": [
    "### 1.3 불필요한 행 삭제"
   ]
  },
  {
   "cell_type": "code",
   "execution_count": 29,
   "metadata": {},
   "outputs": [],
   "source": [
    "data = data.loc[data.city==\"서울특별시\"]\n",
    "data.reset_index(drop=True, inplace = True)"
   ]
  },
  {
   "cell_type": "markdown",
   "metadata": {},
   "source": [
    "### 1.4 변수 이름 바꾸기"
   ]
  },
  {
   "cell_type": "code",
   "execution_count": 30,
   "metadata": {},
   "outputs": [],
   "source": [
    "data.rename(columns = {\"transaction_real_price\":\"price\"}, inplace = True)"
   ]
  },
  {
   "cell_type": "markdown",
   "metadata": {},
   "source": [
    "### 1.5 불필요한 변수 삭제"
   ]
  },
  {
   "cell_type": "code",
   "execution_count": 31,
   "metadata": {},
   "outputs": [],
   "source": [
    "data.drop([\"transaction_id\", \"apartment_id\", \"jibun\", \"city\"], axis = 1, inplace = True)"
   ]
  },
  {
   "cell_type": "markdown",
   "metadata": {},
   "source": [
    "### 1.6 연/월 뽑기"
   ]
  },
  {
   "cell_type": "code",
   "execution_count": 32,
   "metadata": {},
   "outputs": [],
   "source": [
    "data[\"transaction_year\"], data[\"transaction_month\"] = data.transaction_year_month // 100 ,data.transaction_year_month % 100"
   ]
  },
  {
   "cell_type": "markdown",
   "metadata": {},
   "source": [
    "### 1.7 필요 연도 뽑기"
   ]
  },
  {
   "cell_type": "code",
   "execution_count": 33,
   "metadata": {},
   "outputs": [],
   "source": [
    "data = data.loc[data[\"transaction_year\"] >= 2012,]\n",
    "data.reset_index(drop=True, inplace = True)"
   ]
  },
  {
   "cell_type": "markdown",
   "metadata": {},
   "source": [
    "# 2. 데이터 시각화"
   ]
  },
  {
   "cell_type": "code",
   "execution_count": 34,
   "metadata": {},
   "outputs": [],
   "source": [
    "import matplotlib.pyplot as plt\n",
    "import seaborn as sns"
   ]
  },
  {
   "cell_type": "markdown",
   "metadata": {},
   "source": [
    "### 2.1 거래가격 분포 확인"
   ]
  },
  {
   "cell_type": "code",
   "execution_count": 35,
   "metadata": {
    "scrolled": true
   },
   "outputs": [
    {
     "data": {
      "text/plain": [
       "Text(0.5, 0, 'Price')"
      ]
     },
     "execution_count": 35,
     "metadata": {},
     "output_type": "execute_result"
    },
    {
     "data": {
      "image/png": "[encoded data removed]",
      "text/plain": [
       "<Figure size 1440x720 with 2 Axes>"
      ]
     },
     "metadata": {
      "needs_background": "light"
     },
     "output_type": "display_data"
    }
   ],
   "source": [
    "firstplot = plt.figure(figsize = (20,10))\n",
    "axes1 = firstplot.add_subplot(1,2,1)\n",
    "axes2 = firstplot.add_subplot(1,2,2)\n",
    "\n",
    "axes1.boxplot(data.price, vert = False)\n",
    "axes1.set_title(\"Boxplot of Price\", size = 25)\n",
    "axes1.set_xlabel(\"Price\", size = 20)\n",
    "axes2.hist(data[\"price\"])\n",
    "axes2.set_title(\"Histogram of Price\", size = 25)\n",
    "axes2.set_xlabel(\"Price\", size = 20)"
   ]
  },
  {
   "cell_type": "markdown",
   "metadata": {},
   "source": [
    "눈에 띄는 점은 이상치가 많이 보인다는 점이다. 대부분의 가격분포는 200000 아래로 형성되어 있다."
   ]
  },
  {
   "cell_type": "code",
   "execution_count": 36,
   "metadata": {
    "scrolled": true
   },
   "outputs": [
    {
     "name": "stderr",
     "output_type": "stream",
     "text": [
      "C:\\Users\\whoe9\\anaconda3\\lib\\site-packages\\seaborn\\_decorators.py:36: FutureWarning: Pass the following variable as a keyword arg: x. From version 0.12, the only valid positional argument will be `data`, and passing other arguments without an explicit keyword will result in an error or misinterpretation.\n",
      "  warnings.warn(\n",
      "C:\\Users\\whoe9\\anaconda3\\lib\\site-packages\\seaborn\\distributions.py:2551: FutureWarning: `distplot` is a deprecated function and will be removed in a future version. Please adapt your code to use either `displot` (a figure-level function with similar flexibility) or `histplot` (an axes-level function for histograms).\n",
      "  warnings.warn(msg, FutureWarning)\n"
     ]
    },
    {
     "data": {
      "text/plain": [
       "[Text(0.5, 1.0, 'Histogram of Price'), Text(0.5, 0, 'Price')]"
      ]
     },
     "execution_count": 36,
     "metadata": {},
     "output_type": "execute_result"
    },
    {
     "data": {
      "image/png": "[encoded data removed]",
      "text/plain": [
       "<Figure size 1296x720 with 2 Axes>"
      ]
     },
     "metadata": {},
     "output_type": "display_data"
    }
   ],
   "source": [
    "sns.set(font_scale = 2)\n",
    "fig, axs = plt.subplots(ncols = 2, figsize = (18,10))\n",
    "sns.boxplot(data[\"price\"], ax = axs[0]).set(title = \"Boxplot of Price\", xlabel = \"Price\")\n",
    "sns.distplot(data[\"price\"], ax = axs[1]).set(title = \"Histogram of Price\", xlabel = \"Price\")"
   ]
  },
  {
   "cell_type": "markdown",
   "metadata": {
    "scrolled": true
   },
   "source": [
    "대부분의 집들은 집값이 상대적으로 낮은 쪽에 분포해있다. 하지만 집값이 매우 높은, 이상치로 여겨질만한 관측치들이 존재한다."
   ]
  },
  {
   "cell_type": "markdown",
   "metadata": {},
   "source": [
    "### 2.2 연도별 거래량 / 연도별 가격 분포"
   ]
  },
  {
   "cell_type": "code",
   "execution_count": 37,
   "metadata": {
    "scrolled": true
   },
   "outputs": [
    {
     "data": {
      "text/plain": [
       "[Text(0.5, 1.0, 'Price barplot by year'), Text(0.5, 0, 'transaction_year')]"
      ]
     },
     "execution_count": 37,
     "metadata": {},
     "output_type": "execute_result"
    },
    {
     "data": {
      "image/png": "[encoded data removed]",
      "text/plain": [
       "<Figure size 1440x864 with 2 Axes>"
      ]
     },
     "metadata": {},
     "output_type": "display_data"
    }
   ],
   "source": [
    "\n",
    "fig, axs = plt.subplots(ncols = 2, figsize = (20,12))\n",
    "sns.countplot(data = data, x=\"transaction_year\", ax = axs[0]).set(title = \"Countplot by year\", xlabel = \"transaction_year\")\n",
    "sns.barplot(data = data, x=\"transaction_year\", y=\"price\", ax = axs[1]).set(title = \"Price barplot by year\", xlabel = \"transaction_year\")"
   ]
  },
  {
   "cell_type": "markdown",
   "metadata": {},
   "source": [
    "부동산 거래량은 2012년부터 2015년까지 계속적으로 증가하는 추세였다가 2016년부터는 하락 하는 추세이다. 이를 오른쪽 플랏과 연관지어 생각해보면 2016년부터 전년대비 집값 상승률이 높아져서 부동산 거래가 줄었다고도 생각해 볼 수 있다."
   ]
  },
  {
   "cell_type": "markdown",
   "metadata": {},
   "source": [
    "### 2.3 층별 거래량 분포 / 층별 가격 분포"
   ]
  },
  {
   "cell_type": "code",
   "execution_count": 38,
   "metadata": {
    "scrolled": true
   },
   "outputs": [
    {
     "data": {
      "text/plain": [
       "[Text(0.5, 1.0, 'Price plot by floor'),\n",
       " [Text(0, 0, ''),\n",
       "  Text(1, 0, ''),\n",
       "  Text(2, 0, ''),\n",
       "  Text(3, 0, ''),\n",
       "  Text(4, 0, ''),\n",
       "  Text(5, 0, ''),\n",
       "  Text(6, 0, ''),\n",
       "  Text(7, 0, ''),\n",
       "  Text(8, 0, ''),\n",
       "  Text(9, 0, ''),\n",
       "  Text(10, 0, ''),\n",
       "  Text(11, 0, ''),\n",
       "  Text(12, 0, ''),\n",
       "  Text(13, 0, ''),\n",
       "  Text(14, 0, ''),\n",
       "  Text(15, 0, ''),\n",
       "  Text(16, 0, ''),\n",
       "  Text(17, 0, ''),\n",
       "  Text(18, 0, ''),\n",
       "  Text(19, 0, ''),\n",
       "  Text(20, 0, ''),\n",
       "  Text(21, 0, ''),\n",
       "  Text(22, 0, ''),\n",
       "  Text(23, 0, ''),\n",
       "  Text(24, 0, ''),\n",
       "  Text(25, 0, ''),\n",
       "  Text(26, 0, ''),\n",
       "  Text(27, 0, ''),\n",
       "  Text(28, 0, ''),\n",
       "  Text(29, 0, ''),\n",
       "  Text(30, 0, ''),\n",
       "  Text(31, 0, ''),\n",
       "  Text(32, 0, ''),\n",
       "  Text(33, 0, ''),\n",
       "  Text(34, 0, ''),\n",
       "  Text(35, 0, ''),\n",
       "  Text(36, 0, ''),\n",
       "  Text(37, 0, ''),\n",
       "  Text(38, 0, ''),\n",
       "  Text(39, 0, ''),\n",
       "  Text(40, 0, ''),\n",
       "  Text(41, 0, ''),\n",
       "  Text(42, 0, ''),\n",
       "  Text(43, 0, ''),\n",
       "  Text(44, 0, ''),\n",
       "  Text(45, 0, ''),\n",
       "  Text(46, 0, ''),\n",
       "  Text(47, 0, ''),\n",
       "  Text(48, 0, ''),\n",
       "  Text(49, 0, ''),\n",
       "  Text(50, 0, ''),\n",
       "  Text(51, 0, ''),\n",
       "  Text(52, 0, ''),\n",
       "  Text(53, 0, ''),\n",
       "  Text(54, 0, ''),\n",
       "  Text(55, 0, ''),\n",
       "  Text(56, 0, ''),\n",
       "  Text(57, 0, ''),\n",
       "  Text(58, 0, ''),\n",
       "  Text(59, 0, ''),\n",
       "  Text(60, 0, ''),\n",
       "  Text(61, 0, ''),\n",
       "  Text(62, 0, ''),\n",
       "  Text(63, 0, ''),\n",
       "  Text(64, 0, ''),\n",
       "  Text(65, 0, ''),\n",
       "  Text(66, 0, ''),\n",
       "  Text(67, 0, ''),\n",
       "  Text(68, 0, ''),\n",
       "  Text(69, 0, ''),\n",
       "  Text(70, 0, ''),\n",
       "  Text(71, 0, ''),\n",
       "  Text(72, 0, '')]]"
      ]
     },
     "execution_count": 38,
     "metadata": {},
     "output_type": "execute_result"
    },
    {
     "data": {
      "image/png": "[encoded data removed]",
      "text/plain": [
       "<Figure size 1440x864 with 2 Axes>"
      ]
     },
     "metadata": {},
     "output_type": "display_data"
    }
   ],
   "source": [
    "fig, axs = plt.subplots(ncols = 2, figsize = (20,12))\n",
    "sns.countplot(data = data , \n",
    "              x=\"floor\", ax=axs[0], color = \"red\"\n",
    "             ).set(title = \"Number of sale by floor\", xticklabels=[])\n",
    "sns.barplot(data = data, \n",
    "            x=\"floor\", y = \"price\", \n",
    "            ax=axs[1], color = \"red\", ci = None\n",
    "           ).set(title = \"Price plot by floor\", xticklabels=[])"
   ]
  },
  {
   "cell_type": "markdown",
   "metadata": {},
   "source": [
    "오른쪽 플랏을 통해 건물의 층고가 높아질수록 가격이 상승하는 경향을 보이는 것을 알 수 있다.하지만 건물의 층고가 높다고 해서 무조건적으로 가격이 높게 형성되는 것은 아니다. 또한 대부분의 건물은 상대적으로 층고가 낮은 곳에 속해 있어 층고가 높은 건물들의 가격은 전체 평균 가격에 크게 영향을 미칠 듯 하다.\n"
   ]
  },
  {
   "cell_type": "markdown",
   "metadata": {},
   "source": [
    "### 2.4 완공연도별 거래량 분포 / 완공연도별 가격 분포"
   ]
  },
  {
   "cell_type": "code",
   "execution_count": 39,
   "metadata": {
    "scrolled": true
   },
   "outputs": [
    {
     "data": {
      "text/plain": [
       "[[Text(0, 0, ''),\n",
       "  Text(1, 0, ''),\n",
       "  Text(2, 0, ''),\n",
       "  Text(3, 0, ''),\n",
       "  Text(4, 0, ''),\n",
       "  Text(5, 0, ''),\n",
       "  Text(6, 0, ''),\n",
       "  Text(7, 0, ''),\n",
       "  Text(8, 0, ''),\n",
       "  Text(9, 0, ''),\n",
       "  Text(10, 0, ''),\n",
       "  Text(11, 0, ''),\n",
       "  Text(12, 0, ''),\n",
       "  Text(13, 0, ''),\n",
       "  Text(14, 0, ''),\n",
       "  Text(15, 0, ''),\n",
       "  Text(16, 0, ''),\n",
       "  Text(17, 0, ''),\n",
       "  Text(18, 0, ''),\n",
       "  Text(19, 0, ''),\n",
       "  Text(20, 0, ''),\n",
       "  Text(21, 0, ''),\n",
       "  Text(22, 0, ''),\n",
       "  Text(23, 0, ''),\n",
       "  Text(24, 0, ''),\n",
       "  Text(25, 0, ''),\n",
       "  Text(26, 0, ''),\n",
       "  Text(27, 0, ''),\n",
       "  Text(28, 0, ''),\n",
       "  Text(29, 0, ''),\n",
       "  Text(30, 0, ''),\n",
       "  Text(31, 0, ''),\n",
       "  Text(32, 0, ''),\n",
       "  Text(33, 0, ''),\n",
       "  Text(34, 0, ''),\n",
       "  Text(35, 0, ''),\n",
       "  Text(36, 0, ''),\n",
       "  Text(37, 0, ''),\n",
       "  Text(38, 0, ''),\n",
       "  Text(39, 0, ''),\n",
       "  Text(40, 0, ''),\n",
       "  Text(41, 0, ''),\n",
       "  Text(42, 0, ''),\n",
       "  Text(43, 0, ''),\n",
       "  Text(44, 0, ''),\n",
       "  Text(45, 0, ''),\n",
       "  Text(46, 0, ''),\n",
       "  Text(47, 0, ''),\n",
       "  Text(48, 0, ''),\n",
       "  Text(49, 0, ''),\n",
       "  Text(50, 0, ''),\n",
       "  Text(51, 0, ''),\n",
       "  Text(52, 0, ''),\n",
       "  Text(53, 0, '')]]"
      ]
     },
     "execution_count": 39,
     "metadata": {},
     "output_type": "execute_result"
    },
    {
     "data": {
      "image/png": "[encoded data removed]",
      "text/plain": [
       "<Figure size 1440x864 with 2 Axes>"
      ]
     },
     "metadata": {},
     "output_type": "display_data"
    }
   ],
   "source": [
    "fig, axs = plt.subplots(ncols = 2, figsize = (20,12))\n",
    "sns.countplot(data = data, \n",
    "              x = \"year_of_completion\", \n",
    "              ax=axs[0], color = \"red\"\n",
    "             ).set(xticklabels=[])\n",
    "sns.barplot(data = data,\n",
    "            x = \"year_of_completion\", y=\"price\", \n",
    "            ax=axs[1], color = \"red\", ci = None\n",
    "           ).set(xticklabels=[])"
   ]
  },
  {
   "cell_type": "markdown",
   "metadata": {},
   "source": [
    "\n",
    "오른쪽 플랏을 통해 완공 연도가 최근이라고 해서 더 비싸다고는 할 수 없다. 상대적으로 완공연도가 오래된 것들의 가격이 더 높게 형성되어 있다. \n",
    "\n",
    "완공연도가 비교적 최근인 것들의 매물이 더 많은데 이를 오른쪽 가격 그래프와 연관지어 생각해보면 공급의 초과로 가격이 낮게 형성되었을 수도 있다. 하지만 이 시기에 지어진 건물의 다른 특징(층고, 위치 등) 등을 고려해봐야 할 문제라고 생각한다.\n",
    "\n"
   ]
  },
  {
   "cell_type": "markdown",
   "metadata": {},
   "source": [
    "## 3. 파생변수 생성"
   ]
  },
  {
   "cell_type": "markdown",
   "metadata": {},
   "source": [
    "### 3.1 아파트 연차 변수 생성"
   ]
  },
  {
   "cell_type": "code",
   "execution_count": 40,
   "metadata": {},
   "outputs": [],
   "source": [
    "data[\"until_trans\"] = data[\"transaction_year\"] - data[\"year_of_completion\"] + 1"
   ]
  },
  {
   "cell_type": "code",
   "execution_count": 41,
   "metadata": {},
   "outputs": [
    {
     "data": {
      "text/html": [
       "<div>\n",
       "<style scoped>\n",
       "    .dataframe tbody tr th:only-of-type {\n",
       "        vertical-align: middle;\n",
       "    }\n",
       "\n",
       "    .dataframe tbody tr th {\n",
       "        vertical-align: top;\n",
       "    }\n",
       "\n",
       "    .dataframe thead th {\n",
       "        text-align: right;\n",
       "    }\n",
       "</style>\n",
       "<table border=\"1\" class=\"dataframe\">\n",
       "  <thead>\n",
       "    <tr style=\"text-align: right;\">\n",
       "      <th></th>\n",
       "      <th>dong</th>\n",
       "      <th>apt</th>\n",
       "      <th>addr_kr</th>\n",
       "      <th>exclusive_use_area</th>\n",
       "      <th>year_of_completion</th>\n",
       "      <th>transaction_year_month</th>\n",
       "      <th>transaction_date</th>\n",
       "      <th>floor</th>\n",
       "      <th>price</th>\n",
       "      <th>transaction_year</th>\n",
       "      <th>transaction_month</th>\n",
       "      <th>until_trans</th>\n",
       "    </tr>\n",
       "  </thead>\n",
       "  <tbody>\n",
       "    <tr>\n",
       "      <th>0</th>\n",
       "      <td>사직동</td>\n",
       "      <td>광화문풍림스페이스본(9-0)</td>\n",
       "      <td>사직동 9 광화문풍림스페이스본(9-0)</td>\n",
       "      <td>95.88</td>\n",
       "      <td>2008</td>\n",
       "      <td>201201</td>\n",
       "      <td>1~10</td>\n",
       "      <td>6</td>\n",
       "      <td>70000</td>\n",
       "      <td>2012</td>\n",
       "      <td>1</td>\n",
       "      <td>5</td>\n",
       "    </tr>\n",
       "    <tr>\n",
       "      <th>1</th>\n",
       "      <td>사직동</td>\n",
       "      <td>광화문풍림스페이스본(9-0)</td>\n",
       "      <td>사직동 9 광화문풍림스페이스본(9-0)</td>\n",
       "      <td>108.55</td>\n",
       "      <td>2008</td>\n",
       "      <td>201201</td>\n",
       "      <td>11~20</td>\n",
       "      <td>11</td>\n",
       "      <td>100500</td>\n",
       "      <td>2012</td>\n",
       "      <td>1</td>\n",
       "      <td>5</td>\n",
       "    </tr>\n",
       "    <tr>\n",
       "      <th>2</th>\n",
       "      <td>사직동</td>\n",
       "      <td>광화문풍림스페이스본(9-0)</td>\n",
       "      <td>사직동 9 광화문풍림스페이스본(9-0)</td>\n",
       "      <td>94.51</td>\n",
       "      <td>2008</td>\n",
       "      <td>201201</td>\n",
       "      <td>11~20</td>\n",
       "      <td>1</td>\n",
       "      <td>65800</td>\n",
       "      <td>2012</td>\n",
       "      <td>1</td>\n",
       "      <td>5</td>\n",
       "    </tr>\n",
       "    <tr>\n",
       "      <th>3</th>\n",
       "      <td>수송동</td>\n",
       "      <td>로얄팰리스스위트</td>\n",
       "      <td>수송동 85 로얄팰리스스위트</td>\n",
       "      <td>42.87</td>\n",
       "      <td>2005</td>\n",
       "      <td>201201</td>\n",
       "      <td>1~10</td>\n",
       "      <td>8</td>\n",
       "      <td>30500</td>\n",
       "      <td>2012</td>\n",
       "      <td>1</td>\n",
       "      <td>8</td>\n",
       "    </tr>\n",
       "    <tr>\n",
       "      <th>4</th>\n",
       "      <td>수송동</td>\n",
       "      <td>로얄팰리스스위트</td>\n",
       "      <td>수송동 85 로얄팰리스스위트</td>\n",
       "      <td>39.67</td>\n",
       "      <td>2005</td>\n",
       "      <td>201201</td>\n",
       "      <td>21~31</td>\n",
       "      <td>15</td>\n",
       "      <td>30500</td>\n",
       "      <td>2012</td>\n",
       "      <td>1</td>\n",
       "      <td>8</td>\n",
       "    </tr>\n",
       "  </tbody>\n",
       "</table>\n",
       "</div>"
      ],
      "text/plain": [
       "  dong              apt                addr_kr  exclusive_use_area  \\\n",
       "0  사직동  광화문풍림스페이스본(9-0)  사직동 9 광화문풍림스페이스본(9-0)               95.88   \n",
       "1  사직동  광화문풍림스페이스본(9-0)  사직동 9 광화문풍림스페이스본(9-0)              108.55   \n",
       "2  사직동  광화문풍림스페이스본(9-0)  사직동 9 광화문풍림스페이스본(9-0)               94.51   \n",
       "3  수송동         로얄팰리스스위트        수송동 85 로얄팰리스스위트               42.87   \n",
       "4  수송동         로얄팰리스스위트        수송동 85 로얄팰리스스위트               39.67   \n",
       "\n",
       "   year_of_completion  transaction_year_month transaction_date  floor   price  \\\n",
       "0                2008                  201201             1~10      6   70000   \n",
       "1                2008                  201201            11~20     11  100500   \n",
       "2                2008                  201201            11~20      1   65800   \n",
       "3                2005                  201201             1~10      8   30500   \n",
       "4                2005                  201201            21~31     15   30500   \n",
       "\n",
       "   transaction_year  transaction_month  until_trans  \n",
       "0              2012                  1            5  \n",
       "1              2012                  1            5  \n",
       "2              2012                  1            5  \n",
       "3              2012                  1            8  \n",
       "4              2012                  1            8  "
      ]
     },
     "execution_count": 41,
     "metadata": {},
     "output_type": "execute_result"
    }
   ],
   "source": [
    "data.head()"
   ]
  },
  {
   "cell_type": "code",
   "execution_count": 42,
   "metadata": {
    "scrolled": true
   },
   "outputs": [
    {
     "data": {
      "text/plain": [
       "[[Text(0, 0, ''),\n",
       "  Text(1, 0, ''),\n",
       "  Text(2, 0, ''),\n",
       "  Text(3, 0, ''),\n",
       "  Text(4, 0, ''),\n",
       "  Text(5, 0, ''),\n",
       "  Text(6, 0, ''),\n",
       "  Text(7, 0, ''),\n",
       "  Text(8, 0, ''),\n",
       "  Text(9, 0, ''),\n",
       "  Text(10, 0, ''),\n",
       "  Text(11, 0, ''),\n",
       "  Text(12, 0, ''),\n",
       "  Text(13, 0, ''),\n",
       "  Text(14, 0, ''),\n",
       "  Text(15, 0, ''),\n",
       "  Text(16, 0, ''),\n",
       "  Text(17, 0, ''),\n",
       "  Text(18, 0, ''),\n",
       "  Text(19, 0, ''),\n",
       "  Text(20, 0, ''),\n",
       "  Text(21, 0, ''),\n",
       "  Text(22, 0, ''),\n",
       "  Text(23, 0, ''),\n",
       "  Text(24, 0, ''),\n",
       "  Text(25, 0, ''),\n",
       "  Text(26, 0, ''),\n",
       "  Text(27, 0, ''),\n",
       "  Text(28, 0, ''),\n",
       "  Text(29, 0, ''),\n",
       "  Text(30, 0, ''),\n",
       "  Text(31, 0, ''),\n",
       "  Text(32, 0, ''),\n",
       "  Text(33, 0, ''),\n",
       "  Text(34, 0, ''),\n",
       "  Text(35, 0, ''),\n",
       "  Text(36, 0, ''),\n",
       "  Text(37, 0, ''),\n",
       "  Text(38, 0, ''),\n",
       "  Text(39, 0, ''),\n",
       "  Text(40, 0, ''),\n",
       "  Text(41, 0, ''),\n",
       "  Text(42, 0, ''),\n",
       "  Text(43, 0, ''),\n",
       "  Text(44, 0, ''),\n",
       "  Text(45, 0, ''),\n",
       "  Text(46, 0, ''),\n",
       "  Text(47, 0, ''),\n",
       "  Text(48, 0, ''),\n",
       "  Text(49, 0, ''),\n",
       "  Text(50, 0, ''),\n",
       "  Text(51, 0, ''),\n",
       "  Text(52, 0, ''),\n",
       "  Text(53, 0, '')]]"
      ]
     },
     "execution_count": 42,
     "metadata": {},
     "output_type": "execute_result"
    },
    {
     "data": {
      "image/png": "[encoded data removed]",
      "text/plain": [
       "<Figure size 1440x864 with 2 Axes>"
      ]
     },
     "metadata": {},
     "output_type": "display_data"
    }
   ],
   "source": [
    "fig, axs = plt.subplots(ncols = 2, figsize = (20,12))\n",
    "sns.countplot(data = data, \n",
    "              x=\"until_trans\", \n",
    "              ax = axs[0], color = \"red\").set(xticklabels=[])\n",
    "sns.barplot(data = data,\n",
    "            x=\"until_trans\", y = \"price\", \n",
    "            ax = axs[1], color = \"red\").set(xticklabels=[])"
   ]
  },
  {
   "cell_type": "raw",
   "metadata": {},
   "source": [
    "아파트 연차가 오래될수록 가격은 잠시 감소하다가 일정 시기에 대폭 증가하는 것으로 보인다. 상대적으로 많이 오래된 연차의 건물들은 다른 매물들 보다 가격이 현저히 낮다. \n",
    "\n",
    "각 건물이 속한 동이 아닌 지역구를 기준으로 파생 변수를 만들 수도 있다고 생각한다.\n",
    "거래 월을 기준으로 계절 변수를 추가하여 계절적 변동에 따른 가격을 알아불 수도 있다고 생각한다."
   ]
  },
  {
   "cell_type": "markdown",
   "metadata": {},
   "source": [
    "### 3.2 거래 일 변수 변환"
   ]
  },
  {
   "cell_type": "code",
   "execution_count": 43,
   "metadata": {},
   "outputs": [],
   "source": [
    "data[\"transaction_date\"] = np.where(data[\"transaction_date\"] == \"1~10\", \n",
    "         0,\n",
    "        np.where(data[\"transaction_date\"] == \"11~20\", 1, 2))"
   ]
  },
  {
   "cell_type": "markdown",
   "metadata": {},
   "source": [
    "### 3.3 월 변수와 10일 단위 변수 통합"
   ]
  },
  {
   "cell_type": "code",
   "execution_count": 152,
   "metadata": {},
   "outputs": [],
   "source": [
    "data[\"transaction_month_date\"] = 3*data.transaction_month + data.transaction_date"
   ]
  },
  {
   "cell_type": "code",
   "execution_count": 153,
   "metadata": {},
   "outputs": [
    {
     "data": {
      "text/html": [
       "<div>\n",
       "<style scoped>\n",
       "    .dataframe tbody tr th:only-of-type {\n",
       "        vertical-align: middle;\n",
       "    }\n",
       "\n",
       "    .dataframe tbody tr th {\n",
       "        vertical-align: top;\n",
       "    }\n",
       "\n",
       "    .dataframe thead th {\n",
       "        text-align: right;\n",
       "    }\n",
       "</style>\n",
       "<table border=\"1\" class=\"dataframe\">\n",
       "  <thead>\n",
       "    <tr style=\"text-align: right;\">\n",
       "      <th></th>\n",
       "      <th>transaction_month_date</th>\n",
       "      <th>transaction_month</th>\n",
       "      <th>transaction_date</th>\n",
       "    </tr>\n",
       "  </thead>\n",
       "  <tbody>\n",
       "    <tr>\n",
       "      <th>0</th>\n",
       "      <td>3</td>\n",
       "      <td>1</td>\n",
       "      <td>0</td>\n",
       "    </tr>\n",
       "    <tr>\n",
       "      <th>1</th>\n",
       "      <td>4</td>\n",
       "      <td>1</td>\n",
       "      <td>1</td>\n",
       "    </tr>\n",
       "    <tr>\n",
       "      <th>2</th>\n",
       "      <td>4</td>\n",
       "      <td>1</td>\n",
       "      <td>1</td>\n",
       "    </tr>\n",
       "    <tr>\n",
       "      <th>3</th>\n",
       "      <td>3</td>\n",
       "      <td>1</td>\n",
       "      <td>0</td>\n",
       "    </tr>\n",
       "    <tr>\n",
       "      <th>4</th>\n",
       "      <td>5</td>\n",
       "      <td>1</td>\n",
       "      <td>2</td>\n",
       "    </tr>\n",
       "    <tr>\n",
       "      <th>...</th>\n",
       "      <td>...</td>\n",
       "      <td>...</td>\n",
       "      <td>...</td>\n",
       "    </tr>\n",
       "    <tr>\n",
       "      <th>513523</th>\n",
       "      <td>34</td>\n",
       "      <td>11</td>\n",
       "      <td>1</td>\n",
       "    </tr>\n",
       "    <tr>\n",
       "      <th>513524</th>\n",
       "      <td>35</td>\n",
       "      <td>11</td>\n",
       "      <td>2</td>\n",
       "    </tr>\n",
       "    <tr>\n",
       "      <th>513525</th>\n",
       "      <td>35</td>\n",
       "      <td>11</td>\n",
       "      <td>2</td>\n",
       "    </tr>\n",
       "    <tr>\n",
       "      <th>513526</th>\n",
       "      <td>35</td>\n",
       "      <td>11</td>\n",
       "      <td>2</td>\n",
       "    </tr>\n",
       "    <tr>\n",
       "      <th>513527</th>\n",
       "      <td>35</td>\n",
       "      <td>11</td>\n",
       "      <td>2</td>\n",
       "    </tr>\n",
       "  </tbody>\n",
       "</table>\n",
       "<p>513528 rows × 3 columns</p>\n",
       "</div>"
      ],
      "text/plain": [
       "        transaction_month_date  transaction_month  transaction_date\n",
       "0                            3                  1                 0\n",
       "1                            4                  1                 1\n",
       "2                            4                  1                 1\n",
       "3                            3                  1                 0\n",
       "4                            5                  1                 2\n",
       "...                        ...                ...               ...\n",
       "513523                      34                 11                 1\n",
       "513524                      35                 11                 2\n",
       "513525                      35                 11                 2\n",
       "513526                      35                 11                 2\n",
       "513527                      35                 11                 2\n",
       "\n",
       "[513528 rows x 3 columns]"
      ]
     },
     "execution_count": 153,
     "metadata": {},
     "output_type": "execute_result"
    }
   ],
   "source": [
    "data[['transaction_month_date', 'transaction_month', 'transaction_date']]"
   ]
  },
  {
   "cell_type": "markdown",
   "metadata": {},
   "source": [
    "### 3.4 삼각변환"
   ]
  },
  {
   "cell_type": "code",
   "execution_count": 154,
   "metadata": {},
   "outputs": [],
   "source": [
    "import math"
   ]
  },
  {
   "cell_type": "code",
   "execution_count": 155,
   "metadata": {},
   "outputs": [],
   "source": [
    "\n",
    "data[\"sin_time\"] = np.sin(2*np.pi * (data.transaction_month_date /4 ))\n",
    "data[\"cos_time\"] = np.cos(2*np.pi * (data.transaction_month_date) / 4)\n"
   ]
  },
  {
   "cell_type": "code",
   "execution_count": null,
   "metadata": {},
   "outputs": [],
   "source": [
    "data.drop([\"year_of_completion\", \"transaction_year_month\", \"transaction_date\", \"transaction_month\", \"transaction_month_date\"], axis = 1, inplace = True)"
   ]
  },
  {
   "cell_type": "markdown",
   "metadata": {},
   "source": [
    "사실 패키지 문제 밑에 삼각변환된 값이 나와 있어서 거기에 끼워 맞춰 답을 적어놓았습니다. 기존에 링크로 연결된 자료를 보고 생각했던 삼각변환은 일정한 주기를 갖는 함수를 그 주기로 나눠주는 변환을 취해주는 걸로 생각했습니다. 그래서 transaction_month_date를 unique한 값들의 길이인 35(주기)로 나누어줬었는데 이 방법은 안되는 걸까요..? 또는 365일을 10일 단위로 나누어 표현했기에 나누는 값에 36.5나 36도 생각해봤었는데 지식이 부족하여 뭐가 적절한지는 아직 잘 모르겠습니다... \n",
    "저렇게 4로 나누어도 주기성을 표현할 수 있는지 궁금합니다~!\n",
    "아 그리고 패키지 문제 너무 친절하게 설명해주셔서 감사합니다!!!!"
   ]
  },
  {
   "cell_type": "markdown",
   "metadata": {},
   "source": [
    "### 3.5 삼각변환을 통한 장점"
   ]
  },
  {
   "cell_type": "markdown",
   "metadata": {},
   "source": [
    "원핫 인코딩이나 레이블 인코딩을 한다면 위 자료의 특징인 주기성을 반영하지 못합니다.\n",
    "반면 삼각변환을 이용한다면 자료가 주기성을 반영하기 때문에 시계열적 특징을 갖는 변수에 유용할 것으로 생각됩니다."
   ]
  },
  {
   "cell_type": "markdown",
   "metadata": {},
   "source": [
    "## 4. 텍스트 데이터 다루기"
   ]
  },
  {
   "cell_type": "markdown",
   "metadata": {},
   "source": [
    "### 4.1 아파트 이름 한글부분만 뽑기"
   ]
  },
  {
   "cell_type": "code",
   "execution_count": 117,
   "metadata": {},
   "outputs": [
    {
     "data": {
      "text/plain": [
       "0    광화문풍림스페이스본\n",
       "1    광화문풍림스페이스본\n",
       "2    광화문풍림스페이스본\n",
       "3      로얄팰리스스위트\n",
       "4      로얄팰리스스위트\n",
       "Name: apt, dtype: object"
      ]
     },
     "execution_count": 117,
     "metadata": {},
     "output_type": "execute_result"
    }
   ],
   "source": [
    "apt = data['apt']\n",
    "apt = apt.str.replace(pat=r'[^\\w]', repl=r'', regex=True) \n",
    "apt = apt.str.replace(pat=r'[\\d]', repl=r'', regex=True) \n",
    "apt.head()"
   ]
  },
  {
   "cell_type": "markdown",
   "metadata": {},
   "source": [
    "### 4.2 아파트 이름 DTM"
   ]
  },
  {
   "cell_type": "code",
   "execution_count": 78,
   "metadata": {},
   "outputs": [],
   "source": [
    "from sklearn.feature_extraction.text import CountVectorizer\n",
    "from sklearn.feature_extraction.text import TfidfVectorizer"
   ]
  },
  {
   "cell_type": "code",
   "execution_count": 119,
   "metadata": {},
   "outputs": [
    {
     "name": "stdout",
     "output_type": "stream",
     "text": [
      "[[0 0 0 ... 0 0 0]\n",
      " [0 0 0 ... 0 0 0]\n",
      " [0 0 0 ... 0 0 0]\n",
      " ...\n",
      " [0 0 0 ... 0 0 0]\n",
      " [0 0 0 ... 0 0 0]\n",
      " [0 0 0 ... 0 0 0]]\n"
     ]
    },
    {
     "data": {
      "text/plain": [
       "(513528, 4048)"
      ]
     },
     "execution_count": 119,
     "metadata": {},
     "output_type": "execute_result"
    }
   ],
   "source": [
    "ct_vectorizer = CountVectorizer(min_df = 5)\n",
    "apt_count = ct_vectorizer.fit_transform(apt)\n",
    "print(apt_count.toarray())\n",
    "apt_count.toarray().shape"
   ]
  },
  {
   "cell_type": "markdown",
   "metadata": {},
   "source": [
    "### 4.3 아파트 이름 tf-idf"
   ]
  },
  {
   "cell_type": "code",
   "execution_count": 118,
   "metadata": {},
   "outputs": [
    {
     "name": "stdout",
     "output_type": "stream",
     "text": [
      "[[0. 0. 0. ... 0. 0. 0.]\n",
      " [0. 0. 0. ... 0. 0. 0.]\n",
      " [0. 0. 0. ... 0. 0. 0.]\n",
      " ...\n",
      " [0. 0. 0. ... 0. 0. 0.]\n",
      " [0. 0. 0. ... 0. 0. 0.]\n",
      " [0. 0. 0. ... 0. 0. 0.]]\n"
     ]
    },
    {
     "data": {
      "text/plain": [
       "(513528, 4048)"
      ]
     },
     "execution_count": 118,
     "metadata": {},
     "output_type": "execute_result"
    }
   ],
   "source": [
    "tf_vectorizer = TfidfVectorizer(min_df = 5)\n",
    "apt_tfidf = tf_vectorizer.fit_transform(apt)\n",
    "print(apt_tfidf.toarray())\n",
    "apt_tfidf.toarray().shape"
   ]
  },
  {
   "cell_type": "markdown",
   "metadata": {},
   "source": [
    "\n",
    "### 4.4 "
   ]
  },
  {
   "cell_type": "markdown",
   "metadata": {},
   "source": [
    "단어의 빈도수를 기반으로 단어 문서 행렬을 만들어 원래의 데이터프레임에 붙여 분석/모델링을 진행한다면 우선 차원이 증가하는 문제가 발생합니다. 단어 문서 행렬로 변환한 값들에 서로 겹치지 않는 단어가 많다면 차원이 급격히 증가하고, 공간의 낭비가 심해집니다. 대부분의 원소가 0인 sparse한 행렬이 만들어지게 됩니다. 이를 dense한 행렬도 만듦으로써 해결할 수 있습니다."
   ]
  },
  {
   "cell_type": "markdown",
   "metadata": {},
   "source": [
    "## 5. 인코딩"
   ]
  },
  {
   "cell_type": "markdown",
   "metadata": {},
   "source": [
    "### 5.1 원핫 인코딩"
   ]
  },
  {
   "cell_type": "code",
   "execution_count": 28,
   "metadata": {},
   "outputs": [],
   "source": [
    "data = data.drop(columns = ['addr_kr'])"
   ]
  },
  {
   "cell_type": "code",
   "execution_count": 44,
   "metadata": {},
   "outputs": [
    {
     "data": {
      "text/plain": [
       "(513528, 7092)"
      ]
     },
     "execution_count": 44,
     "metadata": {},
     "output_type": "execute_result"
    }
   ],
   "source": [
    "data_onehot= pd.get_dummies(data[[\"dong\", \"apt\"]], drop_first = True)\n",
    "data_onehot.shape"
   ]
  },
  {
   "cell_type": "markdown",
   "metadata": {},
   "source": [
    "차원이 너무 비대하게 커져서 적절하지 못한 인코딩이라고 생각합니다"
   ]
  },
  {
   "cell_type": "markdown",
   "metadata": {},
   "source": [
    "### 5.2 레이블 인코딩 - transaction_year"
   ]
  },
  {
   "cell_type": "code",
   "execution_count": 30,
   "metadata": {},
   "outputs": [],
   "source": [
    "data[\"transaction_year\"] = data[\"transaction_year\"].astype(\"category\").cat.codes"
   ]
  },
  {
   "cell_type": "code",
   "execution_count": 31,
   "metadata": {},
   "outputs": [
    {
     "data": {
      "text/html": [
       "<div>\n",
       "<style scoped>\n",
       "    .dataframe tbody tr th:only-of-type {\n",
       "        vertical-align: middle;\n",
       "    }\n",
       "\n",
       "    .dataframe tbody tr th {\n",
       "        vertical-align: top;\n",
       "    }\n",
       "\n",
       "    .dataframe thead th {\n",
       "        text-align: right;\n",
       "    }\n",
       "</style>\n",
       "<table border=\"1\" class=\"dataframe\">\n",
       "  <thead>\n",
       "    <tr style=\"text-align: right;\">\n",
       "      <th></th>\n",
       "      <th>dong</th>\n",
       "      <th>apt</th>\n",
       "      <th>exclusive_use_area</th>\n",
       "      <th>floor</th>\n",
       "      <th>price</th>\n",
       "      <th>transaction_year</th>\n",
       "      <th>until_trans</th>\n",
       "      <th>sin_time</th>\n",
       "      <th>cos_time</th>\n",
       "    </tr>\n",
       "  </thead>\n",
       "  <tbody>\n",
       "    <tr>\n",
       "      <th>0</th>\n",
       "      <td>사직동</td>\n",
       "      <td>광화문풍림스페이스본(9-0)</td>\n",
       "      <td>95.88</td>\n",
       "      <td>6</td>\n",
       "      <td>70000</td>\n",
       "      <td>0</td>\n",
       "      <td>5</td>\n",
       "      <td>-1.000000e+00</td>\n",
       "      <td>-1.836970e-16</td>\n",
       "    </tr>\n",
       "    <tr>\n",
       "      <th>1</th>\n",
       "      <td>사직동</td>\n",
       "      <td>광화문풍림스페이스본(9-0)</td>\n",
       "      <td>108.55</td>\n",
       "      <td>11</td>\n",
       "      <td>100500</td>\n",
       "      <td>0</td>\n",
       "      <td>5</td>\n",
       "      <td>-2.449294e-16</td>\n",
       "      <td>1.000000e+00</td>\n",
       "    </tr>\n",
       "    <tr>\n",
       "      <th>2</th>\n",
       "      <td>사직동</td>\n",
       "      <td>광화문풍림스페이스본(9-0)</td>\n",
       "      <td>94.51</td>\n",
       "      <td>1</td>\n",
       "      <td>65800</td>\n",
       "      <td>0</td>\n",
       "      <td>5</td>\n",
       "      <td>-2.449294e-16</td>\n",
       "      <td>1.000000e+00</td>\n",
       "    </tr>\n",
       "    <tr>\n",
       "      <th>3</th>\n",
       "      <td>수송동</td>\n",
       "      <td>로얄팰리스스위트</td>\n",
       "      <td>42.87</td>\n",
       "      <td>8</td>\n",
       "      <td>30500</td>\n",
       "      <td>0</td>\n",
       "      <td>8</td>\n",
       "      <td>-1.000000e+00</td>\n",
       "      <td>-1.836970e-16</td>\n",
       "    </tr>\n",
       "    <tr>\n",
       "      <th>4</th>\n",
       "      <td>수송동</td>\n",
       "      <td>로얄팰리스스위트</td>\n",
       "      <td>39.67</td>\n",
       "      <td>15</td>\n",
       "      <td>30500</td>\n",
       "      <td>0</td>\n",
       "      <td>8</td>\n",
       "      <td>1.000000e+00</td>\n",
       "      <td>3.061617e-16</td>\n",
       "    </tr>\n",
       "  </tbody>\n",
       "</table>\n",
       "</div>"
      ],
      "text/plain": [
       "  dong              apt  exclusive_use_area  floor   price  transaction_year  \\\n",
       "0  사직동  광화문풍림스페이스본(9-0)               95.88      6   70000                 0   \n",
       "1  사직동  광화문풍림스페이스본(9-0)              108.55     11  100500                 0   \n",
       "2  사직동  광화문풍림스페이스본(9-0)               94.51      1   65800                 0   \n",
       "3  수송동         로얄팰리스스위트               42.87      8   30500                 0   \n",
       "4  수송동         로얄팰리스스위트               39.67     15   30500                 0   \n",
       "\n",
       "   until_trans      sin_time      cos_time  \n",
       "0            5 -1.000000e+00 -1.836970e-16  \n",
       "1            5 -2.449294e-16  1.000000e+00  \n",
       "2            5 -2.449294e-16  1.000000e+00  \n",
       "3            8 -1.000000e+00 -1.836970e-16  \n",
       "4            8  1.000000e+00  3.061617e-16  "
      ]
     },
     "execution_count": 31,
     "metadata": {},
     "output_type": "execute_result"
    }
   ],
   "source": [
    "data.head()"
   ]
  },
  {
   "cell_type": "markdown",
   "metadata": {},
   "source": [
    "레이블 인코딩을 한다면 원래 자료가 가지고 있는 고유한 의미가 레이블 값으로 대체되어 그 의미를 잃어버리고 하나의 범주로서 역할한다는 것이 단점이라고 생각합니다.\n",
    "하지만 연도는 레이블 인코딩을 거치더라도 레이블 값(숫자)가 전후관계를 보장해주기 때문에 이같은 인코딩은 적절하다 생각합니다."
   ]
  },
  {
   "cell_type": "markdown",
   "metadata": {},
   "source": [
    "### 5.3 레이블 인코딩"
   ]
  },
  {
   "cell_type": "code",
   "execution_count": 32,
   "metadata": {},
   "outputs": [],
   "source": [
    "dong_label = data[\"dong\"].astype(\"category\").cat.codes\n",
    "apt_label = data[\"apt\"].astype(\"category\").cat.codes\n",
    "data_label = data\n",
    "data_label[\"dong\"] = dong_label\n",
    "data_label[\"apt\"] = apt_label"
   ]
  },
  {
   "cell_type": "code",
   "execution_count": 33,
   "metadata": {},
   "outputs": [
    {
     "data": {
      "text/html": [
       "<div>\n",
       "<style scoped>\n",
       "    .dataframe tbody tr th:only-of-type {\n",
       "        vertical-align: middle;\n",
       "    }\n",
       "\n",
       "    .dataframe tbody tr th {\n",
       "        vertical-align: top;\n",
       "    }\n",
       "\n",
       "    .dataframe thead th {\n",
       "        text-align: right;\n",
       "    }\n",
       "</style>\n",
       "<table border=\"1\" class=\"dataframe\">\n",
       "  <thead>\n",
       "    <tr style=\"text-align: right;\">\n",
       "      <th></th>\n",
       "      <th>dong</th>\n",
       "      <th>apt</th>\n",
       "      <th>exclusive_use_area</th>\n",
       "      <th>floor</th>\n",
       "      <th>price</th>\n",
       "      <th>transaction_year</th>\n",
       "      <th>until_trans</th>\n",
       "      <th>sin_time</th>\n",
       "      <th>cos_time</th>\n",
       "    </tr>\n",
       "  </thead>\n",
       "  <tbody>\n",
       "    <tr>\n",
       "      <th>0</th>\n",
       "      <td>130</td>\n",
       "      <td>805</td>\n",
       "      <td>95.88</td>\n",
       "      <td>6</td>\n",
       "      <td>70000</td>\n",
       "      <td>0</td>\n",
       "      <td>5</td>\n",
       "      <td>-1.000000e+00</td>\n",
       "      <td>-1.836970e-16</td>\n",
       "    </tr>\n",
       "    <tr>\n",
       "      <th>1</th>\n",
       "      <td>130</td>\n",
       "      <td>805</td>\n",
       "      <td>108.55</td>\n",
       "      <td>11</td>\n",
       "      <td>100500</td>\n",
       "      <td>0</td>\n",
       "      <td>5</td>\n",
       "      <td>-2.449294e-16</td>\n",
       "      <td>1.000000e+00</td>\n",
       "    </tr>\n",
       "    <tr>\n",
       "      <th>2</th>\n",
       "      <td>130</td>\n",
       "      <td>805</td>\n",
       "      <td>94.51</td>\n",
       "      <td>1</td>\n",
       "      <td>65800</td>\n",
       "      <td>0</td>\n",
       "      <td>5</td>\n",
       "      <td>-2.449294e-16</td>\n",
       "      <td>1.000000e+00</td>\n",
       "    </tr>\n",
       "    <tr>\n",
       "      <th>3</th>\n",
       "      <td>164</td>\n",
       "      <td>2042</td>\n",
       "      <td>42.87</td>\n",
       "      <td>8</td>\n",
       "      <td>30500</td>\n",
       "      <td>0</td>\n",
       "      <td>8</td>\n",
       "      <td>-1.000000e+00</td>\n",
       "      <td>-1.836970e-16</td>\n",
       "    </tr>\n",
       "    <tr>\n",
       "      <th>4</th>\n",
       "      <td>164</td>\n",
       "      <td>2042</td>\n",
       "      <td>39.67</td>\n",
       "      <td>15</td>\n",
       "      <td>30500</td>\n",
       "      <td>0</td>\n",
       "      <td>8</td>\n",
       "      <td>1.000000e+00</td>\n",
       "      <td>3.061617e-16</td>\n",
       "    </tr>\n",
       "  </tbody>\n",
       "</table>\n",
       "</div>"
      ],
      "text/plain": [
       "   dong   apt  exclusive_use_area  floor   price  transaction_year  \\\n",
       "0   130   805               95.88      6   70000                 0   \n",
       "1   130   805              108.55     11  100500                 0   \n",
       "2   130   805               94.51      1   65800                 0   \n",
       "3   164  2042               42.87      8   30500                 0   \n",
       "4   164  2042               39.67     15   30500                 0   \n",
       "\n",
       "   until_trans      sin_time      cos_time  \n",
       "0            5 -1.000000e+00 -1.836970e-16  \n",
       "1            5 -2.449294e-16  1.000000e+00  \n",
       "2            5 -2.449294e-16  1.000000e+00  \n",
       "3            8 -1.000000e+00 -1.836970e-16  \n",
       "4            8  1.000000e+00  3.061617e-16  "
      ]
     },
     "execution_count": 33,
     "metadata": {},
     "output_type": "execute_result"
    }
   ],
   "source": [
    "data_label.head()"
   ]
  },
  {
   "cell_type": "markdown",
   "metadata": {},
   "source": [
    "반대로 동과 아파트 이름에 대한 레이블 인코딩은 적절하지 않은 것 같습니다. 레이블 인코딩 시 값들이 숫자로 표현된다는 특징이 있는데, 이렇게 변환하게 된다면 문자열이 가진 고유의 의미를 잃어버리고 숫자 크기에 의해 순서가 생기기 때문에 자료를 탐색할 때나 모델을 학습할 때 단점으로 작용합니다. 그렇기에 이같은 인코딩은 부적절한 듯 합니다."
   ]
  },
  {
   "cell_type": "markdown",
   "metadata": {},
   "source": [
    "### 5.4 mean 인코딩"
   ]
  },
  {
   "cell_type": "code",
   "execution_count": 34,
   "metadata": {},
   "outputs": [
    {
     "data": {
      "text/html": [
       "<div>\n",
       "<style scoped>\n",
       "    .dataframe tbody tr th:only-of-type {\n",
       "        vertical-align: middle;\n",
       "    }\n",
       "\n",
       "    .dataframe tbody tr th {\n",
       "        vertical-align: top;\n",
       "    }\n",
       "\n",
       "    .dataframe thead th {\n",
       "        text-align: right;\n",
       "    }\n",
       "</style>\n",
       "<table border=\"1\" class=\"dataframe\">\n",
       "  <thead>\n",
       "    <tr style=\"text-align: right;\">\n",
       "      <th></th>\n",
       "      <th>dong</th>\n",
       "      <th>apt</th>\n",
       "      <th>exclusive_use_area</th>\n",
       "      <th>floor</th>\n",
       "      <th>price</th>\n",
       "      <th>transaction_year</th>\n",
       "      <th>until_trans</th>\n",
       "      <th>sin_time</th>\n",
       "      <th>cos_time</th>\n",
       "    </tr>\n",
       "  </thead>\n",
       "  <tbody>\n",
       "    <tr>\n",
       "      <th>0</th>\n",
       "      <td>130</td>\n",
       "      <td>91174.766355</td>\n",
       "      <td>95.88</td>\n",
       "      <td>6</td>\n",
       "      <td>70000</td>\n",
       "      <td>0</td>\n",
       "      <td>5</td>\n",
       "      <td>-1.000000e+00</td>\n",
       "      <td>-1.836970e-16</td>\n",
       "    </tr>\n",
       "    <tr>\n",
       "      <th>1</th>\n",
       "      <td>130</td>\n",
       "      <td>91174.766355</td>\n",
       "      <td>108.55</td>\n",
       "      <td>11</td>\n",
       "      <td>100500</td>\n",
       "      <td>0</td>\n",
       "      <td>5</td>\n",
       "      <td>-2.449294e-16</td>\n",
       "      <td>1.000000e+00</td>\n",
       "    </tr>\n",
       "    <tr>\n",
       "      <th>2</th>\n",
       "      <td>130</td>\n",
       "      <td>91174.766355</td>\n",
       "      <td>94.51</td>\n",
       "      <td>1</td>\n",
       "      <td>65800</td>\n",
       "      <td>0</td>\n",
       "      <td>5</td>\n",
       "      <td>-2.449294e-16</td>\n",
       "      <td>1.000000e+00</td>\n",
       "    </tr>\n",
       "    <tr>\n",
       "      <th>3</th>\n",
       "      <td>164</td>\n",
       "      <td>36609.649123</td>\n",
       "      <td>42.87</td>\n",
       "      <td>8</td>\n",
       "      <td>30500</td>\n",
       "      <td>0</td>\n",
       "      <td>8</td>\n",
       "      <td>-1.000000e+00</td>\n",
       "      <td>-1.836970e-16</td>\n",
       "    </tr>\n",
       "    <tr>\n",
       "      <th>4</th>\n",
       "      <td>164</td>\n",
       "      <td>36609.649123</td>\n",
       "      <td>39.67</td>\n",
       "      <td>15</td>\n",
       "      <td>30500</td>\n",
       "      <td>0</td>\n",
       "      <td>8</td>\n",
       "      <td>1.000000e+00</td>\n",
       "      <td>3.061617e-16</td>\n",
       "    </tr>\n",
       "  </tbody>\n",
       "</table>\n",
       "</div>"
      ],
      "text/plain": [
       "   dong           apt  exclusive_use_area  floor   price  transaction_year  \\\n",
       "0   130  91174.766355               95.88      6   70000                 0   \n",
       "1   130  91174.766355              108.55     11  100500                 0   \n",
       "2   130  91174.766355               94.51      1   65800                 0   \n",
       "3   164  36609.649123               42.87      8   30500                 0   \n",
       "4   164  36609.649123               39.67     15   30500                 0   \n",
       "\n",
       "   until_trans      sin_time      cos_time  \n",
       "0            5 -1.000000e+00 -1.836970e-16  \n",
       "1            5 -2.449294e-16  1.000000e+00  \n",
       "2            5 -2.449294e-16  1.000000e+00  \n",
       "3            8 -1.000000e+00 -1.836970e-16  \n",
       "4            8  1.000000e+00  3.061617e-16  "
      ]
     },
     "execution_count": 34,
     "metadata": {},
     "output_type": "execute_result"
    }
   ],
   "source": [
    "data_mean = data_label\n",
    "apt_mean = data_mean.groupby([\"apt\"])[\"price\"].mean().to_dict()\n",
    "data_mean[\"apt\"] = data_label[\"apt\"].map(apt_mean)\n",
    "data_mean.head()"
   ]
  },
  {
   "cell_type": "markdown",
   "metadata": {},
   "source": [
    "mean 인코딩의 장점은 label 인코딩이나 onehot 인코딩과 달리 값 자체가 특정한 의미를 갖는다는 것이다. 타겟 값에 대해 각각의 범주형 변수의 label 값을 평균내어 label값으로 대체하기 때문에 타겟 값과 관계가 있다고 할 수 있다. 이 같은 인코딩 방법은 비교적 빠른 학습 속도로 이어진다는 장점 또한 있다. \n",
    "\n",
    "하지만 training 데이터의 타겟 값의 영향을 받기 때문에 training 데이터와 test 데이터의 타겟 값 분포가 상당히 다르다면 training 데이터에만 잘 적합하는 오버피팅이 발생할 수 있다는 단점이 있다.\n",
    "\n",
    "하지만 onehot인코딩은 차원이 너무 늘어나고, label인코딩은 자료의 고유한 특성을 반영하지 못한다는 단점이 존재하고 mean 인코딩은 이런 단점을 보완할 수 있기 때문에 자연어처리를 따로 하지 않는다면 mean 인코딩은 적절한 방법이라 생각한다."
   ]
  }
 ],
 "metadata": {
  "kernelspec": {
   "display_name": "Python 3",
   "language": "python",
   "name": "python3"
  },
  "language_info": {
   "codemirror_mode": {
    "name": "ipython",
    "version": 3
   },
   "file_extension": ".py",
   "mimetype": "text/x-python",
   "name": "python",
   "nbconvert_exporter": "python",
   "pygments_lexer": "ipython3",
   "version": "3.8.5"
  }
 },
 "nbformat": 4,
 "nbformat_minor": 4
}
